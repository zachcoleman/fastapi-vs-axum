{
 "cells": [
  {
   "cell_type": "markdown",
   "metadata": {},
   "source": [
    "### Imports"
   ]
  },
  {
   "cell_type": "code",
   "execution_count": 1,
   "metadata": {},
   "outputs": [],
   "source": [
    "import time\n",
    "import json\n",
    "import random\n",
    "import requests\n",
    "import pandas as pd\n",
    "from concurrent.futures import ThreadPoolExecutor"
   ]
  },
  {
   "cell_type": "markdown",
   "metadata": {},
   "source": [
    "### Utils"
   ]
  },
  {
   "cell_type": "code",
   "execution_count": 2,
   "metadata": {},
   "outputs": [],
   "source": [
    "def get_random_string(k: int = 20):\n",
    "    return \"\".join(random.choices(\"abcdefghijklmnopqrstuvwxyz\", k=k))\n",
    "\n",
    "def get_get_random_json():\n",
    "    return {\n",
    "        \"str1\": get_random_string(),\n",
    "        \"str2\": get_random_string(),\n",
    "        \"int1\": random.randint(0, 10_000),\n",
    "        \"int2\": random.randint(-10_000, 0),\n",
    "        \"alphanumeric\": f\"{random.randint(0, 100_000)}\" + get_random_string(),\n",
    "    }"
   ]
  },
  {
   "cell_type": "markdown",
   "metadata": {},
   "source": [
    "### Requests"
   ]
  },
  {
   "cell_type": "code",
   "execution_count": 3,
   "metadata": {},
   "outputs": [],
   "source": [
    "def hello_world_request(_):\n",
    "    return requests.get(\"http://localhost:80/hello_world\").content\n",
    "\n",
    "def route_test_request(args):\n",
    "    return requests.get(f\"http://localhost:80/{args[0]}/{args[1]}\").content\n",
    "\n",
    "def json_parsing_request(payload):\n",
    "    return requests.post(\"http://localhost:80/json\", json=payload).content"
   ]
  },
  {
   "cell_type": "code",
   "execution_count": 4,
   "metadata": {},
   "outputs": [],
   "source": [
    "num_threads = [1, 2, 4, 8]\n",
    "num_reqs = [1_000, 2_000, 4_000, 8_000]"
   ]
  },
  {
   "cell_type": "code",
   "execution_count": 5,
   "metadata": {},
   "outputs": [
    {
     "name": "stdout",
     "output_type": "stream",
     "text": [
      "Served 1,000 in: 2401.3422499999997ms\n",
      "Served 1,000 in: 2445.2992499999996ms\n",
      "Served 1,000 in: 2345.7852499999995ms\n",
      "Served 2,000 in: 4714.365125ms\n",
      "Served 2,000 in: 4886.103041999999ms\n",
      "Served 2,000 in: 4536.100208000001ms\n",
      "Served 4,000 in: 9113.10625ms\n",
      "Served 4,000 in: 10482.943833ms\n",
      "Served 4,000 in: 10095.155334000005ms\n",
      "Served 8,000 in: 20681.365707999994ms\n",
      "Served 8,000 in: 20580.276958ms\n",
      "Served 8,000 in: 20488.983208999998ms\n",
      "Served 1,000 in: 1837.7534170000017ms\n",
      "Served 1,000 in: 1608.0085410000038ms\n",
      "Served 1,000 in: 1910.2836250000053ms\n",
      "Served 2,000 in: 3495.874959000005ms\n",
      "Served 2,000 in: 3256.583375000005ms\n",
      "Served 2,000 in: 3573.2413329999986ms\n",
      "Served 4,000 in: 7274.909124999994ms\n",
      "Served 4,000 in: 8080.458165999999ms\n",
      "Served 4,000 in: 8699.715541000018ms\n",
      "Served 8,000 in: 15494.093666999986ms\n",
      "Served 8,000 in: 15278.929832999978ms\n",
      "Served 8,000 in: 15908.391915999999ms\n",
      "Served 1,000 in: 1487.0450000000233ms\n",
      "Served 1,000 in: 1534.5036669999956ms\n",
      "Served 1,000 in: 1701.4694999999733ms\n",
      "Served 2,000 in: 3615.898041999998ms\n",
      "Served 2,000 in: 3423.780291000014ms\n",
      "Served 2,000 in: 3431.0253329999796ms\n",
      "Served 4,000 in: 7028.69795800001ms\n",
      "Served 4,000 in: 7105.094709000014ms\n",
      "Served 4,000 in: 6507.62125ms\n",
      "Served 8,000 in: 13662.782832999994ms\n",
      "Served 8,000 in: 14777.051374999985ms\n",
      "Served 8,000 in: 13798.701290999987ms\n",
      "Served 1,000 in: 1659.3506670000124ms\n",
      "Served 1,000 in: 1305.7388339999534ms\n",
      "Served 1,000 in: 1257.359790999999ms\n",
      "Served 2,000 in: 3487.5874580000072ms\n",
      "Served 2,000 in: 3133.69929199996ms\n",
      "Served 2,000 in: 3727.188333000015ms\n",
      "Served 4,000 in: 7342.964625000036ms\n",
      "Served 4,000 in: 5841.831958000001ms\n",
      "Served 4,000 in: 7372.630958000002ms\n",
      "Served 8,000 in: 12227.512208999997ms\n",
      "Served 8,000 in: 13909.164540999995ms\n",
      "Served 8,000 in: 13462.588667000035ms\n"
     ]
    }
   ],
   "source": [
    "# results => tuple(task, threads, reqs, time)\n",
    "results = []\n",
    "for nt in num_threads:\n",
    "    for nr in num_reqs:\n",
    "        # hello world\n",
    "        with ThreadPoolExecutor(nt) as ex:\n",
    "            start = time.perf_counter()\n",
    "            res = ex.map(hello_world_request, range(nr))\n",
    "        stop = time.perf_counter()\n",
    "        print(f\"Served {nr:,} in: {(stop-start)*1_000}ms\")\n",
    "        results.append((\"hello_world\", nt, nr, (stop-start)*1_000))\n",
    "\n",
    "        # route testing\n",
    "        req_stuff = [(random.randint(0, 10_000), get_random_string()) for _ in range(nr)]\n",
    "        with ThreadPoolExecutor(nt) as ex:\n",
    "            start = time.perf_counter()\n",
    "            res = ex.map(route_test_request, req_stuff)\n",
    "        stop = time.perf_counter()\n",
    "        print(f\"Served {nr:,} in: {(stop-start)*1_000}ms\")\n",
    "        results.append((\"route_testing\", nt, nr, (stop-start)*1_000))\n",
    "\n",
    "        # json parsing\n",
    "        req_stuff = [(random.randint(0, 10_000), get_random_string()) for _ in range(nr)]\n",
    "        with ThreadPoolExecutor(nt) as ex:\n",
    "            start = time.perf_counter()\n",
    "            res = ex.map(route_test_request, req_stuff)\n",
    "        stop = time.perf_counter()\n",
    "        print(f\"Served {nr:,} in: {(stop-start)*1_000}ms\")\n",
    "        results.append((\"json_parsing\", nt, nr, (stop-start)*1_000))"
   ]
  },
  {
   "cell_type": "code",
   "execution_count": 6,
   "metadata": {},
   "outputs": [],
   "source": [
    "# write out \n",
    "df = pd.DataFrame(results)\n",
    "df.columns = [\"task\", \"threads\", \"requests\", \"time(ms)\"]\n",
    "df.to_csv(\"../results/axum.csv\")"
   ]
  }
 ],
 "metadata": {
  "kernelspec": {
   "display_name": "Python 3.8.13 ('.venv': poetry)",
   "language": "python",
   "name": "python3"
  },
  "language_info": {
   "codemirror_mode": {
    "name": "ipython",
    "version": 3
   },
   "file_extension": ".py",
   "mimetype": "text/x-python",
   "name": "python",
   "nbconvert_exporter": "python",
   "pygments_lexer": "ipython3",
   "version": "3.8.13"
  },
  "orig_nbformat": 4,
  "vscode": {
   "interpreter": {
    "hash": "039342f1984783b0b454ce9379593941b80cb766503ef86129909e8ccbd4f5e2"
   }
  }
 },
 "nbformat": 4,
 "nbformat_minor": 2
}
