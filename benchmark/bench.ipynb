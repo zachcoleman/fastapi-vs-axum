{
 "cells": [
  {
   "cell_type": "markdown",
   "metadata": {},
   "source": [
    "### Imports"
   ]
  },
  {
   "cell_type": "code",
   "execution_count": null,
   "metadata": {},
   "outputs": [],
   "source": [
    "import time\n",
    "import json\n",
    "import random\n",
    "import requests\n",
    "import pandas as pd\n",
    "from concurrent.futures import ThreadPoolExecutor"
   ]
  },
  {
   "cell_type": "markdown",
   "metadata": {},
   "source": [
    "### Utils"
   ]
  },
  {
   "cell_type": "code",
   "execution_count": null,
   "metadata": {},
   "outputs": [],
   "source": [
    "def get_random_string(k: int = 20):\n",
    "    return \"\".join(random.choices(\"abcdefghijklmnopqrstuvwxyz\", k=k))\n",
    "\n",
    "def get_get_random_json():\n",
    "    return {\n",
    "        \"str1\": get_random_string(),\n",
    "        \"str2\": get_random_string(),\n",
    "        \"int1\": random.randint(0, 10_000),\n",
    "        \"int2\": random.randint(-10_000, 0),\n",
    "        \"alphanumeric\": f\"{random.randint(0, 100_000)}\" + get_random_string(),\n",
    "    }"
   ]
  },
  {
   "cell_type": "markdown",
   "metadata": {},
   "source": [
    "### Requests"
   ]
  },
  {
   "cell_type": "code",
   "execution_count": null,
   "metadata": {},
   "outputs": [],
   "source": [
    "def hello_world_request(_):\n",
    "    return requests.get(\"http://localhost:80/hello_world\").content\n",
    "\n",
    "def route_test_request(args):\n",
    "    return requests.get(f\"http://localhost:80/{args[0]}/{args[1]}\").content\n",
    "\n",
    "def json_parsing_request(payload):\n",
    "    return requests.post(\"http://localhost:80/json\", json=payload).content"
   ]
  },
  {
   "cell_type": "code",
   "execution_count": null,
   "metadata": {},
   "outputs": [],
   "source": [
    "num_threads = [1, 2, 4, 8]\n",
    "num_reqs = [1_000, 2_000, 4_000, 8_000]"
   ]
  },
  {
   "cell_type": "code",
   "execution_count": null,
   "metadata": {},
   "outputs": [],
   "source": [
    "# results: tuple(task, threads, reqs, time)\n",
    "results = []\n",
    "for nt in num_threads:\n",
    "    for nr in num_reqs:\n",
    "        # hello world\n",
    "        with ThreadPoolExecutor(nt) as ex:\n",
    "            start = time.perf_counter()\n",
    "            res = ex.map(hello_world_request, range(nr))\n",
    "        stop = time.perf_counter()\n",
    "        print(f\"Served {nr:,} in: {(stop-start)*1_000}ms\")\n",
    "        results.append((\"hello_world\", nt, nr, (stop-start)*1_000))\n",
    "\n",
    "        # route testing\n",
    "        req_stuff = [(random.randint(0, 10_000), get_random_string()) for _ in range(nr)]\n",
    "        with ThreadPoolExecutor(nt) as ex:\n",
    "            start = time.perf_counter()\n",
    "            res = ex.map(route_test_request, req_stuff)\n",
    "        stop = time.perf_counter()\n",
    "        print(f\"Served {nr:,} in: {(stop-start)*1_000}ms\")\n",
    "        results.append((\"route_testing\", nt, nr, (stop-start)*1_000))\n",
    "\n",
    "        # json parsing\n",
    "        req_stuff = [(random.randint(0, 10_000), get_random_string()) for _ in range(nr)]\n",
    "        with ThreadPoolExecutor(nt) as ex:\n",
    "            start = time.perf_counter()\n",
    "            res = ex.map(route_test_request, req_stuff)\n",
    "        stop = time.perf_counter()\n",
    "        print(f\"Served {nr:,} in: {(stop-start)*1_000}ms\")\n",
    "        results.append((\"json_parsing\", nt, nr, (stop-start)*1_000))"
   ]
  },
  {
   "cell_type": "code",
   "execution_count": null,
   "metadata": {},
   "outputs": [],
   "source": [
    "# write out \n",
    "df = pd.DataFrame(results)\n",
    "df.columns = [\"task\", \"threads\", \"requests\", \"time(ms)\"]\n",
    "df.to_csv(\"../results/fastapi_native.csv\")"
   ]
  }
 ],
 "metadata": {
  "kernelspec": {
   "display_name": "Python 3.8.13 ('.venv': poetry)",
   "language": "python",
   "name": "python3"
  },
  "language_info": {
   "codemirror_mode": {
    "name": "ipython",
    "version": 3
   },
   "file_extension": ".py",
   "mimetype": "text/x-python",
   "name": "python",
   "nbconvert_exporter": "python",
   "pygments_lexer": "ipython3",
   "version": "3.8.13"
  },
  "orig_nbformat": 4,
  "vscode": {
   "interpreter": {
    "hash": "039342f1984783b0b454ce9379593941b80cb766503ef86129909e8ccbd4f5e2"
   }
  }
 },
 "nbformat": 4,
 "nbformat_minor": 2
}
