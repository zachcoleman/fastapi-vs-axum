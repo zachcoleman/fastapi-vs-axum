{
 "cells": [
  {
   "cell_type": "code",
   "execution_count": 1,
   "metadata": {},
   "outputs": [],
   "source": [
    "import time\n",
    "import json\n",
    "import random\n",
    "import requests\n",
    "from concurrent.futures import ThreadPoolExecutor"
   ]
  },
  {
   "cell_type": "code",
   "execution_count": 2,
   "metadata": {},
   "outputs": [],
   "source": [
    "def get_random_string(k: int = 10):\n",
    "    return \"\".join(random.choices(\"abcdefghijklmnopqrstuvwxyz\", k=k))\n",
    "\n",
    "def get_get_random_json():\n",
    "    return {\n",
    "        \"str1\": get_random_string(),\n",
    "        \"str2\": get_random_string(),\n",
    "        \"int1\": random.randint(0, 10_000),\n",
    "        \"int2\": random.randint(-10_000, 0),\n",
    "        \"alphanumeric\": f\"{random.randint(0, 100_000)}\" + get_random_string(),\n",
    "    }"
   ]
  },
  {
   "cell_type": "code",
   "execution_count": 3,
   "metadata": {},
   "outputs": [],
   "source": [
    "def hello_world_request(_):\n",
    "    return requests.get(\"http://localhost:80/hello_world\").content"
   ]
  },
  {
   "cell_type": "code",
   "execution_count": 4,
   "metadata": {},
   "outputs": [],
   "source": [
    "def route_test_request(args):\n",
    "    return requests.get(f\"http://localhost:80/{args[0]}/{args[1]}\").content"
   ]
  },
  {
   "cell_type": "code",
   "execution_count": 5,
   "metadata": {},
   "outputs": [],
   "source": [
    "def json_parsing_request(payload):\n",
    "    return requests.post(\"http://localhost:80/json\", json=payload).content"
   ]
  },
  {
   "cell_type": "code",
   "execution_count": 6,
   "metadata": {},
   "outputs": [],
   "source": [
    "num_threads = 8\n",
    "num_reqs = 5_000"
   ]
  },
  {
   "cell_type": "code",
   "execution_count": 7,
   "metadata": {},
   "outputs": [
    {
     "name": "stdout",
     "output_type": "stream",
     "text": [
      "Served 5,000 in: 4822.363792000001ms\n"
     ]
    }
   ],
   "source": [
    "with ThreadPoolExecutor(num_threads) as ex:\n",
    "    start = time.perf_counter()\n",
    "    res = ex.map(hello_world_request, range(num_reqs))\n",
    "stop = time.perf_counter()\n",
    "print(f\"Served {num_reqs:,} in: {(stop-start)*1_000}ms\")"
   ]
  },
  {
   "cell_type": "code",
   "execution_count": 8,
   "metadata": {},
   "outputs": [
    {
     "name": "stdout",
     "output_type": "stream",
     "text": [
      "Served 5,000 in: 4874.921166ms\n"
     ]
    }
   ],
   "source": [
    "req_stuff = [(random.randint(0, 10_000), get_random_string()) for _ in range(num_reqs)]\n",
    "with ThreadPoolExecutor(num_threads) as ex:\n",
    "    start = time.perf_counter()\n",
    "    res = ex.map(route_test_request, req_stuff)\n",
    "stop = time.perf_counter()\n",
    "print(f\"Served {num_reqs:,} in: {(stop-start)*1_000}ms\")"
   ]
  },
  {
   "cell_type": "code",
   "execution_count": 9,
   "metadata": {},
   "outputs": [
    {
     "name": "stdout",
     "output_type": "stream",
     "text": [
      "Served 5,000 in: 5039.228750000001ms\n"
     ]
    }
   ],
   "source": [
    "jsons = [get_get_random_json() for _ in range(num_reqs)]\n",
    "with ThreadPoolExecutor(num_threads) as ex:\n",
    "    start = time.perf_counter()\n",
    "    res = ex.map(json_parsing_request, jsons)\n",
    "stop = time.perf_counter()\n",
    "print(f\"Served {num_reqs:,} in: {(stop-start)*1_000}ms\")"
   ]
  }
 ],
 "metadata": {
  "kernelspec": {
   "display_name": "Python 3.8.13 ('.venv': poetry)",
   "language": "python",
   "name": "python3"
  },
  "language_info": {
   "codemirror_mode": {
    "name": "ipython",
    "version": 3
   },
   "file_extension": ".py",
   "mimetype": "text/x-python",
   "name": "python",
   "nbconvert_exporter": "python",
   "pygments_lexer": "ipython3",
   "version": "3.8.13"
  },
  "orig_nbformat": 4,
  "vscode": {
   "interpreter": {
    "hash": "039342f1984783b0b454ce9379593941b80cb766503ef86129909e8ccbd4f5e2"
   }
  }
 },
 "nbformat": 4,
 "nbformat_minor": 2
}
